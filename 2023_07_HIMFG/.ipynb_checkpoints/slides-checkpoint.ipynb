{
 "cells": [
  {
   "cell_type": "markdown",
   "id": "6e348341-571b-4a5a-a985-a058786fc463",
   "metadata": {
    "slideshow": {
     "slide_type": "slide"
    },
    "tags": []
   },
   "source": [
    "<center>\n",
    "<br/>\n",
    "<figure>\n",
    "    <img src=\"static/logo.png\" style=\"width:50%\">\n",
    "<caption>\n",
    "<font size= \"3\">Molecular Systems Multi Toolkit to make the work with molecular models and simulations easy</font>\n",
    "</caption>\n",
    "</figure>\n",
    "<figure>\n",
    "    <img src=\"static/logo2.png\" style=\"width:40%\">\n",
    "</figure>\n",
    "</center>\n",
    "\n",
    "</br>\n",
    "</br>\n",
    "\n",
    "<center>\n",
    "<font size=\"4\"><u>Diego Prada-Gracia</u>, Liliana M. Moreno Vargas</font>\n",
    "<br>\n",
    "<font size=\"3\">Unidad de Investigación en Biología Computacional y Diseño de Fármacos</font>\n",
    "</center>"
   ]
  },
  {
   "cell_type": "markdown",
   "id": "29fe48fd",
   "metadata": {
    "slideshow": {
     "slide_type": "slide"
    }
   },
   "source": [
    "# What is MolSysMT?"
   ]
  },
  {
   "cell_type": "markdown",
   "id": "cdfd85bd",
   "metadata": {
    "slideshow": {
     "slide_type": "slide"
    }
   },
   "source": [
    "# Why MolSysMT?"
   ]
  },
  {
   "cell_type": "markdown",
   "id": "f0e444cc-6836-4608-be6d-a6ac04d419a9",
   "metadata": {
    "slideshow": {
     "slide_type": "subslide"
    },
    "tags": []
   },
   "source": [
    "## Tools with \"End User License Agreement\"\n",
    "- Schrödinger: \"Small molecule drug discovery\" and \"Biologics drug discovery\" (250,000.0 M.N./Año)\n",
    "- HTMD: Play Molecule"
   ]
  },
  {
   "cell_type": "markdown",
   "id": "c5c6f2ee",
   "metadata": {
    "slideshow": {
     "slide_type": "subslide"
    }
   },
   "source": [
    "## Open Source\n",
    "\n",
    "### Base Library - Alternatives to Maestro\n",
    "- [MDAnalysis](https://github.com/MDAnalysis/mdanalysis)\n",
    "- [MDTraj](https://github.com/mdtraj/mdtraj)"
   ]
  },
  {
   "cell_type": "markdown",
   "id": "b4264076",
   "metadata": {
    "slideshow": {
     "slide_type": "fragment"
    }
   },
   "source": [
    "<center>\n",
    "<figure>\n",
    "    <img src=\"static/mdtraj.png\" style=\"width:75%\">\n",
    "<caption>\n",
    "</center>"
   ]
  },
  {
   "cell_type": "markdown",
   "id": "4a86f1d9",
   "metadata": {
    "slideshow": {
     "slide_type": "subslide"
    }
   },
   "source": [
    "### MD engine\n",
    "- [OpenMM]()\n",
    "\n",
    "### 3D Viewer\n",
    "- [NGLView]()\n"
   ]
  },
  {
   "cell_type": "markdown",
   "id": "be2330ee",
   "metadata": {
    "slideshow": {
     "slide_type": "subslide"
    }
   },
   "source": [
    "### Forcefield and parameterization tools\n",
    "- [OpenForcefield]()\n",
    "- [Gaff]()\n",
    "- [Parameterize]()\n",
    "\n",
    "### Binding Free Energy\n",
    "- [Yank]()\n",
    "- [Perses]()"
   ]
  },
  {
   "cell_type": "markdown",
   "id": "b6a95c43",
   "metadata": {
    "slideshow": {
     "slide_type": "subslide"
    }
   },
   "source": [
    "### Pharmacophoric 3D models and VS screening\n",
    "- Pharmer... PyPharmer?\n",
    "\n",
    "### Pockets predictions\n",
    "- Fpocket... PyFpocket?"
   ]
  },
  {
   "cell_type": "markdown",
   "id": "9ad20dd1",
   "metadata": {
    "slideshow": {
     "slide_type": "slide"
    }
   },
   "source": [
    "# Conclusion after careful analysis:"
   ]
  },
  {
   "cell_type": "markdown",
   "id": "f6148089",
   "metadata": {
    "slideshow": {
     "slide_type": "fragment"
    }
   },
   "source": [
    "<center>\n",
    "<br/>\n",
    "<figure>\n",
    "    <img src=\"static/logo.png\" style=\"width:50%\">\n",
    "<caption>\n",
    "<font size= \"3\">Molecular Systems Multi Toolkit to make the work with molecular models and simulations easy</font>\n",
    "</caption>\n",
    "</figure>\n",
    "<figure>\n",
    "    <img src=\"static/logo2.png\" style=\"width:40%\">\n",
    "</figure>\n",
    "</center>\n"
   ]
  },
  {
   "cell_type": "markdown",
   "id": "ad7973c1",
   "metadata": {},
   "source": [
    "# MolSysMT\n",
    "## Install it\n",
    "```bash\n",
    "conda install -c uibcdf molsysmt\n",
    "```\n",
    "## Use it"
   ]
  },
  {
   "cell_type": "code",
   "execution_count": null,
   "id": "68f8bb8f",
   "metadata": {
    "slideshow": {
     "slide_type": "slide"
    }
   },
   "outputs": [],
   "source": [
    "import molsysmt as msm"
   ]
  },
  {
   "cell_type": "markdown",
   "id": "44145f3c",
   "metadata": {
    "slideshow": {
     "slide_type": "slide"
    }
   },
   "source": [
    "# MolSysMT very brief overview\n",
    "- Molecular Systems as forms with elements (55 forms and 6 elements).\n",
    "- Molecular Systems attributes (83 attributes).\n",
    "- Native forms and syntax.\n",
    "- Agnostic functions.\n",
    "- Flexible customization: syntax (3) and units (3).\n",
    "- Tools modules (140 functions): \"Basic\", \"Structure\", \"Topology\", \"Build\", \"PBC\", \"Molecular mechanics\", \"Molecular dynamics\", \"PhysChem\", \"Hbonds\".\n",
    "- \"On the fly\" errors detection (237 input arguments auditors) and memory management."
   ]
  },
  {
   "cell_type": "markdown",
   "id": "7ae094ea",
   "metadata": {
    "slideshow": {
     "slide_type": "slide"
    }
   },
   "source": [
    "# Showcase\n",
    "\n",
    "- A peptide from scratch.\n",
    "- A protein complex working from the Protein Data Bank.\n",
    "- The analysis of an MD trajectory."
   ]
  },
  {
   "cell_type": "markdown",
   "id": "6fda85a2",
   "metadata": {
    "slideshow": {
     "slide_type": "slide"
    }
   },
   "source": [
    "## Let's prepare a Peptide for its study"
   ]
  },
  {
   "cell_type": "code",
   "execution_count": null,
   "id": "ed93f4a3",
   "metadata": {
    "slideshow": {
     "slide_type": "subslide"
    }
   },
   "outputs": [],
   "source": [
    "molecular_system = msm.build.build_peptide('AceTyrGlyGlyPheMetNme')"
   ]
  },
  {
   "cell_type": "code",
   "execution_count": null,
   "id": "d549f74a",
   "metadata": {
    "slideshow": {
     "slide_type": "fragment"
    }
   },
   "outputs": [],
   "source": [
    "msm.view(molecular_system, standard=True)"
   ]
  },
  {
   "cell_type": "code",
   "execution_count": null,
   "id": "1b349cc5",
   "metadata": {
    "slideshow": {
     "slide_type": "subslide"
    }
   },
   "outputs": [],
   "source": [
    "molecular_system = msm.structure.center(molecular_system, selection='molecule_type==\"peptide\"')\n",
    "\n",
    "molecular_system = msm.build.solvate(molecular_system,\n",
    "                                     box_shape='truncated octahedral',\n",
    "                                     clearance='14.0 angstroms')"
   ]
  },
  {
   "cell_type": "code",
   "execution_count": null,
   "id": "92d76233",
   "metadata": {
    "slideshow": {
     "slide_type": "fragment"
    }
   },
   "outputs": [],
   "source": [
    "molecular_system = msm.pbc.wrap_to_mic(molecular_system)\n",
    "msm.view(molecular_system, standard=True, with_water_as='surface')"
   ]
  },
  {
   "cell_type": "markdown",
   "id": "b612022c",
   "metadata": {
    "slideshow": {
     "slide_type": "slide"
    }
   },
   "source": [
    "# Let's prepare a protein complex for its study"
   ]
  },
  {
   "cell_type": "code",
   "execution_count": null,
   "id": "ac4f1472",
   "metadata": {
    "slideshow": {
     "slide_type": "subslide"
    }
   },
   "outputs": [],
   "source": [
    "molecular_system = msm.convert('1BRS')"
   ]
  },
  {
   "cell_type": "code",
   "execution_count": null,
   "id": "82646034",
   "metadata": {
    "slideshow": {
     "slide_type": "fragment"
    }
   },
   "outputs": [],
   "source": [
    "msm.view(molecular_system)"
   ]
  },
  {
   "cell_type": "code",
   "execution_count": null,
   "id": "9d26f253",
   "metadata": {
    "slideshow": {
     "slide_type": "subslide"
    }
   },
   "outputs": [],
   "source": [
    "msm.info(molecular_system, element='molecule', selection='molecule_type==\"protein\"')"
   ]
  },
  {
   "cell_type": "code",
   "execution_count": null,
   "id": "1be984e8",
   "metadata": {
    "slideshow": {
     "slide_type": "subslide"
    }
   },
   "outputs": [],
   "source": [
    "barnase = msm.extract(molecular_system, selection=\"molecule_index==1\")\n",
    "barstar = msm.extract(molecular_system, selection=\"molecule_index==5\")\n",
    "\n",
    "molecule_ref = msm.select(molecular_system, element='molecule',\n",
    "                          selection='molecule_name==\"Barstar\" within 4 angstroms of molecule_index==1')\n",
    "barstar_ref = msm.extract(molecular_system, selection='molecule_index==@molecule_ref')"
   ]
  },
  {
   "cell_type": "code",
   "execution_count": null,
   "id": "b801e990",
   "metadata": {
    "slideshow": {
     "slide_type": "subslide"
    }
   },
   "outputs": [],
   "source": [
    "msm.view([barnase, barstar, barstar_ref])"
   ]
  },
  {
   "cell_type": "code",
   "execution_count": null,
   "id": "6aeb53b7",
   "metadata": {
    "slideshow": {
     "slide_type": "subslide"
    }
   },
   "outputs": [],
   "source": [
    "barstar = msm.structure.align(barstar, selection='atom_name==\"CA\"',\n",
    "                              reference_molecular_system=barstar_ref)"
   ]
  },
  {
   "cell_type": "code",
   "execution_count": null,
   "id": "d8123568",
   "metadata": {
    "slideshow": {
     "slide_type": "subslide"
    }
   },
   "outputs": [],
   "source": [
    "msm.view([barnase, barstar, barstar_ref])"
   ]
  },
  {
   "cell_type": "markdown",
   "id": "e7bf1ff1",
   "metadata": {
    "slideshow": {
     "slide_type": "slide"
    }
   },
   "source": [
    "# Let's analyse a Molecular Dynamics trajectory"
   ]
  },
  {
   "cell_type": "code",
   "execution_count": null,
   "id": "308b0c61",
   "metadata": {
    "slideshow": {
     "slide_type": "subslide"
    }
   },
   "outputs": [],
   "source": [
    "gro_file = msm.systems.demo['nglview']['md_1u19.gro']\n",
    "xtc_file = msm.systems.demo['nglview']['md_1u19.xtc']\n",
    "\n",
    "view = msm.view([gro_file, xtc_file])\n",
    "view"
   ]
  },
  {
   "cell_type": "code",
   "execution_count": null,
   "id": "51392e66",
   "metadata": {
    "slideshow": {
     "slide_type": "subslide"
    }
   },
   "outputs": [],
   "source": [
    "msm.structure.show_contacts(view, selection='atom_name==\"CA\"',\n",
    "                           threshold='12 angstroms')"
   ]
  },
  {
   "cell_type": "markdown",
   "id": "841f0d8b",
   "metadata": {
    "slideshow": {
     "slide_type": "slide"
    }
   },
   "source": [
    "## Next UIBCDF Drug Design and Discovery tools\n",
    "- **Sabueso**: On line public DBs tracker.\n",
    "- **OpenPharmacophore**: 3D pharmacophoric models from MD and virtual screening.\n",
    "- **BiFrEE**: Binding Free Enery Estimator in implicit solvent and interfaces characterization.\n",
    "- **OpenPocket**: Pockets, cavities and channels prediction and characterization."
   ]
  },
  {
   "cell_type": "markdown",
   "id": "b6e0dc25",
   "metadata": {
    "slideshow": {
     "slide_type": "subslide"
    }
   },
   "source": [
    "## Next UIBCDF Drug Design and Discovery tools\n",
    "- **OpenENM**: Elastic network models of proteins.\n",
    "- **OpenDocker**: Potential and free energy landscape of molecular complexes.\n",
    "- **OpenMembrane**: Membrane permeation predictor with MD.\n",
    "- **OpenPeptides**: PES and FEL characterization of peptides and peptides association."
   ]
  },
  {
   "cell_type": "markdown",
   "id": "a9678196",
   "metadata": {
    "slideshow": {
     "slide_type": "slide"
    }
   },
   "source": [
    "# OpenENM\n",
    "\n",
    "## Install it\n",
    "\n",
    "```bash\n",
    "conda install -c uibcdf openenm\n",
    "```\n",
    "\n",
    "## Use it"
   ]
  },
  {
   "cell_type": "code",
   "execution_count": null,
   "id": "958ee8ce",
   "metadata": {
    "slideshow": {
     "slide_type": "fragment"
    }
   },
   "outputs": [],
   "source": [
    "import openenm as oenm"
   ]
  },
  {
   "cell_type": "code",
   "execution_count": null,
   "id": "ab37a27b",
   "metadata": {
    "slideshow": {
     "slide_type": "subslide"
    }
   },
   "outputs": [],
   "source": [
    "molecular_system = msm.convert('1TCD', selection='molecule_type==\"protein\"')\n",
    "msm.info(molecular_system)"
   ]
  },
  {
   "cell_type": "code",
   "execution_count": null,
   "id": "fe3b6495",
   "metadata": {
    "slideshow": {
     "slide_type": "subslide"
    }
   },
   "outputs": [],
   "source": [
    "anm = oenm.AnisotropicNetworkModel(molecular_system, selection='atom_name==\"CA\"', cutoff='10 angstroms')"
   ]
  },
  {
   "cell_type": "code",
   "execution_count": null,
   "id": "57a6c3ec",
   "metadata": {
    "slideshow": {
     "slide_type": "subslide"
    }
   },
   "outputs": [],
   "source": [
    "anm.view_mode(mode=1, arrows=True)"
   ]
  },
  {
   "cell_type": "code",
   "execution_count": null,
   "id": "b0d70c2d",
   "metadata": {
    "slideshow": {
     "slide_type": "subslide"
    }
   },
   "outputs": [],
   "source": [
    "molecular_system = msm.convert('4PFK')"
   ]
  },
  {
   "cell_type": "code",
   "execution_count": null,
   "id": "886aeca6",
   "metadata": {
    "slideshow": {
     "slide_type": "fragment"
    }
   },
   "outputs": [],
   "source": [
    "msm.view(molecular_system)"
   ]
  },
  {
   "cell_type": "code",
   "execution_count": null,
   "id": "c9b78a5d",
   "metadata": {
    "slideshow": {
     "slide_type": "subslide"
    }
   },
   "outputs": [],
   "source": [
    "molecular_system= msm.build.make_bioassembly(molecular_system)"
   ]
  },
  {
   "cell_type": "code",
   "execution_count": null,
   "id": "7c56f09d",
   "metadata": {
    "slideshow": {
     "slide_type": "fragment"
    }
   },
   "outputs": [],
   "source": [
    "msm.view(molecular_system)"
   ]
  },
  {
   "cell_type": "code",
   "execution_count": null,
   "id": "de8fefc9",
   "metadata": {
    "slideshow": {
     "slide_type": "subslide"
    }
   },
   "outputs": [],
   "source": [
    "anm = oenm.AnisotropicNetworkModel(molecular_system, selection='atom_name==\"CA\"', cutoff='10 angstroms')"
   ]
  },
  {
   "cell_type": "code",
   "execution_count": null,
   "id": "60ecab80",
   "metadata": {
    "slideshow": {
     "slide_type": "fragment"
    }
   },
   "outputs": [],
   "source": [
    "anm.view_mode(mode=1)"
   ]
  },
  {
   "cell_type": "markdown",
   "id": "2baf199f",
   "metadata": {
    "slideshow": {
     "slide_type": "slide"
    }
   },
   "source": [
    "# OpenPocket\n",
    "\n",
    "\n",
    "## Install it\n",
    "\n",
    "```bash\n",
    "conda install -c uibcdf openpocket\n",
    "```\n",
    "\n",
    "## Use it"
   ]
  },
  {
   "cell_type": "code",
   "execution_count": 1,
   "id": "1c7ff7ca",
   "metadata": {},
   "outputs": [],
   "source": [
    "import openpocket as opoc"
   ]
  },
  {
   "cell_type": "code",
   "execution_count": 2,
   "id": "b0688ebd",
   "metadata": {},
   "outputs": [
    {
     "data": {
      "application/vnd.jupyter.widget-view+json": {
       "model_id": "5591479192ea450b86a74d437ad88211",
       "version_major": 2,
       "version_minor": 0
      },
      "text/plain": []
     },
     "metadata": {},
     "output_type": "display_data"
    }
   ],
   "source": [
    "import molsysmt as msm"
   ]
  },
  {
   "cell_type": "code",
   "execution_count": 4,
   "id": "180ae1da",
   "metadata": {},
   "outputs": [],
   "source": [
    "molecular_system = msm.convert('1HKC')\n",
    "molecular_system = msm.build.make_bioassembly(molecular_system)\n",
    "molecular_system = msm.extract(molecular_system, 'group_type==\"amino acid\"')"
   ]
  },
  {
   "cell_type": "code",
   "execution_count": 5,
   "id": "5c057771",
   "metadata": {},
   "outputs": [
    {
     "data": {
      "application/vnd.jupyter.widget-view+json": {
       "model_id": "21d1b8f7ece54fe69a9232eb73ee4f35",
       "version_major": 2,
       "version_minor": 0
      },
      "text/plain": [
       "NGLWidget()"
      ]
     },
     "metadata": {},
     "output_type": "display_data"
    }
   ],
   "source": [
    "msm.view(molecular_system)"
   ]
  },
  {
   "cell_type": "code",
   "execution_count": 6,
   "id": "70fa9299",
   "metadata": {},
   "outputs": [],
   "source": [
    "pockets = opoc.get_pockets(molecular_system)"
   ]
  },
  {
   "cell_type": "code",
   "execution_count": 10,
   "id": "4eb02877",
   "metadata": {},
   "outputs": [
    {
     "data": {
      "application/vnd.jupyter.widget-view+json": {
       "model_id": "57797c09a6f844f29af2b35f9f41e830",
       "version_major": 2,
       "version_minor": 0
      },
      "text/plain": [
       "NGLWidget()"
      ]
     },
     "metadata": {},
     "output_type": "display_data"
    }
   ],
   "source": [
    "opoc.show_pockets(molecular_system, pockets, index=9)"
   ]
  },
  {
   "cell_type": "markdown",
   "id": "9fff975b",
   "metadata": {},
   "source": [
    "# OpenPharmacophore"
   ]
  },
  {
   "cell_type": "code",
   "execution_count": null,
   "id": "b8fcd572",
   "metadata": {},
   "outputs": [],
   "source": []
  },
  {
   "cell_type": "code",
   "execution_count": null,
   "id": "d685b975",
   "metadata": {},
   "outputs": [],
   "source": [
    "gracias = msm.build.build_peptide('GRACIAS')\n",
    "msm.view(gracias, standard=True)"
   ]
  }
 ],
 "metadata": {
  "celltoolbar": "Slideshow",
  "kernelspec": {
   "display_name": "Python 3 (ipykernel)",
   "language": "python",
   "name": "python3"
  },
  "language_info": {
   "codemirror_mode": {
    "name": "ipython",
    "version": 3
   },
   "file_extension": ".py",
   "mimetype": "text/x-python",
   "name": "python",
   "nbconvert_exporter": "python",
   "pygments_lexer": "ipython3",
   "version": "3.10.12"
  }
 },
 "nbformat": 4,
 "nbformat_minor": 5
}
