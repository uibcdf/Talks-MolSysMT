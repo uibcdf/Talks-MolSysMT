{
 "cells": [
  {
   "cell_type": "markdown",
   "id": "6e348341-571b-4a5a-a985-a058786fc463",
   "metadata": {
    "slideshow": {
     "slide_type": "slide"
    },
    "tags": []
   },
   "source": [
    "<center>\n",
    "<figure>\n",
    "    <img src=\"logo.png\" style=\"width:50%\">\n",
    "<figure>\n",
    "<font size= \"2\"> Molecular Systems Multi Toolkit to make the work with molecular models and simulations easy </font>"
   ]
  },
  {
   "cell_type": "code",
   "execution_count": 5,
   "id": "4e0b8833-853f-47b4-b2cc-53b10b17c380",
   "metadata": {
    "slideshow": {
     "slide_type": "slide"
    },
    "tags": []
   },
   "outputs": [],
   "source": [
    "a=3\n",
    "b=7"
   ]
  },
  {
   "cell_type": "code",
   "execution_count": 2,
   "id": "233b7e8c-3e24-4f3e-b9a4-a84d5c22d627",
   "metadata": {
    "slideshow": {
     "slide_type": "subslide"
    },
    "tags": []
   },
   "outputs": [
    {
     "name": "stdout",
     "output_type": "stream",
     "text": [
      "10\n"
     ]
    }
   ],
   "source": [
    "print(a+b)"
   ]
  },
  {
   "cell_type": "markdown",
   "id": "f0e444cc-6836-4608-be6d-a6ac04d419a9",
   "metadata": {
    "slideshow": {
     "slide_type": "slide"
    },
    "tags": []
   },
   "source": [
    "# Fin"
   ]
  },
  {
   "cell_type": "code",
   "execution_count": null,
   "id": "76e2d3f3",
   "metadata": {},
   "outputs": [],
   "source": []
  }
 ],
 "metadata": {
  "celltoolbar": "Slideshow",
  "kernelspec": {
   "display_name": "Python 3 (ipykernel)",
   "language": "python",
   "name": "python3"
  },
  "language_info": {
   "codemirror_mode": {
    "name": "ipython",
    "version": 3
   },
   "file_extension": ".py",
   "mimetype": "text/x-python",
   "name": "python",
   "nbconvert_exporter": "python",
   "pygments_lexer": "ipython3",
   "version": "3.10.12"
  }
 },
 "nbformat": 4,
 "nbformat_minor": 5
}
