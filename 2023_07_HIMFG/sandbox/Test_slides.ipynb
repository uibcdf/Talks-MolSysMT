{
 "cells": [
  {
   "cell_type": "markdown",
   "id": "6e348341-571b-4a5a-a985-a058786fc463",
   "metadata": {
    "slideshow": {
     "slide_type": "slide"
    },
    "tags": []
   },
   "source": [
    "<center>\n",
    "<br/>\n",
    "<figure>\n",
    "    <img src=\"static/logo.png\" style=\"width:50%\">\n",
    "<caption>\n",
    "<font size= \"3\">Molecular Systems Multi Toolkit to make the work with molecular models and simulations easy</font>\n",
    "</caption>\n",
    "</figure>\n",
    "<figure>\n",
    "    <img src=\"static/logo2.png\" style=\"width:40%\">\n",
    "</figure>\n",
    "</center>\n",
    "\n",
    "</br>\n",
    "</br>\n",
    "\n",
    "<center>\n",
    "<font size=\"4\"><u>Diego Prada-Gracia</u>, Liliana M. Moreno Vargas</font>\n",
    "<br>\n",
    "<font size=\"3\">Unidad de Investigación en Biología Computacional y Diseño de Fármacos</font>\n",
    "</center>"
   ]
  },
  {
   "cell_type": "markdown",
   "id": "29fe48fd",
   "metadata": {
    "slideshow": {
     "slide_type": "slide"
    }
   },
   "source": [
    "# What is MolSysMT?"
   ]
  },
  {
   "cell_type": "markdown",
   "id": "42de5357",
   "metadata": {
    "slideshow": {
     "slide_type": "slide"
    }
   },
   "source": [
    "## Let's ask to ChatGPT for an answer...\n",
    "\n"
   ]
  },
  {
   "cell_type": "code",
   "execution_count": null,
   "id": "ae8f344e",
   "metadata": {
    "slideshow": {
     "slide_type": "fragment"
    }
   },
   "outputs": [],
   "source": [
    "import openai\n",
    "\n",
    "openai.api_key = open(\"OpenAI-key.txt\", \"r\").read()[:-2]"
   ]
  },
  {
   "cell_type": "code",
   "execution_count": null,
   "id": "3050a840",
   "metadata": {
    "slideshow": {
     "slide_type": "subslide"
    }
   },
   "outputs": [],
   "source": [
    "response = openai.ChatCompletion.create(\n",
    "    model=\"gpt-3.5-turbo\",\n",
    "    messages=[{\"role\": \"user\", \"content\": \"Hola\"},])\n",
    "print(response.choices[0].message.content)"
   ]
  },
  {
   "cell_type": "markdown",
   "id": "cdfd85bd",
   "metadata": {
    "slideshow": {
     "slide_type": "slide"
    }
   },
   "source": [
    "# Why MolSysMT?"
   ]
  },
  {
   "cell_type": "markdown",
   "id": "f0e444cc-6836-4608-be6d-a6ac04d419a9",
   "metadata": {
    "slideshow": {
     "slide_type": "subslide"
    },
    "tags": []
   },
   "source": [
    "## Tools with \"End User License Agreement\"\n",
    "- Schrödinger: \"Small molecule drug discovery\" and \"Biologics drug discovery\" (250,000.0 M.N./Año)\n",
    "- HTMD: Play Molecule"
   ]
  },
  {
   "cell_type": "markdown",
   "id": "c5c6f2ee",
   "metadata": {
    "slideshow": {
     "slide_type": "subslide"
    }
   },
   "source": [
    "## Open Source\n",
    "\n",
    "### Base Library - Alternatives to Maestro\n",
    "- [MDAnalysis](https://github.com/MDAnalysis/mdanalysis)\n",
    "- [MDTraj](https://github.com/mdtraj/mdtraj)"
   ]
  },
  {
   "cell_type": "markdown",
   "id": "b4264076",
   "metadata": {
    "slideshow": {
     "slide_type": "fragment"
    }
   },
   "source": [
    "<center>\n",
    "<figure>\n",
    "    <img src=\"static/mdtraj.png\" style=\"width:75%\">\n",
    "<caption>\n",
    "</center>"
   ]
  },
  {
   "cell_type": "markdown",
   "id": "4a86f1d9",
   "metadata": {
    "slideshow": {
     "slide_type": "subslide"
    }
   },
   "source": [
    "### MD engine\n",
    "- [OpenMM]()\n",
    "\n",
    "### 3D Viewer\n",
    "- [NGLView]()\n"
   ]
  },
  {
   "cell_type": "markdown",
   "id": "be2330ee",
   "metadata": {
    "slideshow": {
     "slide_type": "subslide"
    }
   },
   "source": [
    "### Forcefield and parameterization tools\n",
    "- [OpenForcefield]()\n",
    "- [Gaff]()\n",
    "- [Parameterize]()\n",
    "\n",
    "### Binding Free Energy\n",
    "- [Yank]()\n",
    "- [Perses]()"
   ]
  },
  {
   "cell_type": "markdown",
   "id": "b6a95c43",
   "metadata": {
    "slideshow": {
     "slide_type": "subslide"
    }
   },
   "source": [
    "### Pharmacophoric 3D models and VS screening\n",
    "- Pharmer... PyPharmer?\n",
    "\n",
    "### Pockets predictions\n",
    "- Fpocket... PyFpocket?"
   ]
  },
  {
   "cell_type": "markdown",
   "id": "9ad20dd1",
   "metadata": {
    "slideshow": {
     "slide_type": "slide"
    }
   },
   "source": [
    "# Conclusion after careful analysis:"
   ]
  },
  {
   "cell_type": "markdown",
   "id": "f6148089",
   "metadata": {
    "slideshow": {
     "slide_type": "fragment"
    }
   },
   "source": [
    "<center>\n",
    "<br/>\n",
    "<figure>\n",
    "    <img src=\"static/logo.png\" style=\"width:50%\">\n",
    "<caption>\n",
    "<font size= \"3\">Molecular Systems Multi Toolkit to make the work with molecular models and simulations easy</font>\n",
    "</caption>\n",
    "</figure>\n",
    "<figure>\n",
    "    <img src=\"static/logo2.png\" style=\"width:40%\">\n",
    "</figure>\n",
    "</center>\n"
   ]
  },
  {
   "cell_type": "markdown",
   "id": "8e96c3b7",
   "metadata": {
    "slideshow": {
     "slide_type": "subslide"
    }
   },
   "source": [
    "## Next UIBCDF Drug Design and Discovery tools\n",
    "- **Sabueso**: On line public DBs tracker.\n",
    "- **OpenPharmacophore**: 3D pharmacophoric models from MD and virtual screening\n",
    "- **BiFrEE**: Binding Free Enery Estimator in implicit solvent and interfaces characterization\n",
    "- **OpenPocket**: Pockets, cavities and channels prediction and characterization"
   ]
  },
  {
   "cell_type": "markdown",
   "id": "817dabc6",
   "metadata": {
    "slideshow": {
     "slide_type": "subslide"
    }
   },
   "source": [
    "## Next UIBCDF Drug Design and Discovery tools\n",
    "- **OpenENM**: Elastic network models of proteins\n",
    "- **OpenDocker**: Potential and free energy landscape of molecular complexes\n",
    "- **OpenMembrane**: Membrane permeation predictor with MD\n",
    "- **OpenPeptides**: PES and FEL characterization of peptides and peptides association."
   ]
  },
  {
   "cell_type": "markdown",
   "id": "ad7973c1",
   "metadata": {},
   "source": [
    "# MolSysMT\n",
    "## Install it\n",
    "```bash\n",
    "conda install -c uibcdf molsysmt\n",
    "```\n",
    "## Use it\n",
    "```python\n",
    "import molsysmt as msm\n",
    "```"
   ]
  },
  {
   "cell_type": "markdown",
   "id": "44145f3c",
   "metadata": {
    "slideshow": {
     "slide_type": "slide"
    }
   },
   "source": [
    "# MolSysMT very brief overview\n",
    "- Molecular Systems as forms with elements (55 forms)\n",
    "- Molecular Systems attributes \n",
    "- Native forms and syntax\n",
    "- Agnostic functions\n",
    "- Flexible customization: syntax and units\n",
    "- Tools modules (140 functions): \"Basic\", \"Structure\", \"Topology\", \"Build\", \"PBC\", \"Molecular mechanics\", \"Molecular dynamics\", \"PhysChem\", \"Hbonds\"\n",
    "- \"On the fly\" errors detection and memory management"
   ]
  },
  {
   "cell_type": "markdown",
   "id": "7181e672",
   "metadata": {
    "slideshow": {
     "slide_type": "slide"
    }
   },
   "source": [
    "# Showcase"
   ]
  },
  {
   "cell_type": "code",
   "execution_count": null,
   "id": "eccdc54b",
   "metadata": {
    "slideshow": {
     "slide_type": "subslide"
    }
   },
   "outputs": [],
   "source": [
    "import molsysmt as msm"
   ]
  },
  {
   "cell_type": "markdown",
   "id": "6fda85a2",
   "metadata": {
    "slideshow": {
     "slide_type": "slide"
    }
   },
   "source": [
    "## Let's prepare a Peptide for its study"
   ]
  },
  {
   "cell_type": "code",
   "execution_count": null,
   "id": "ed93f4a3",
   "metadata": {
    "slideshow": {
     "slide_type": "subslide"
    }
   },
   "outputs": [],
   "source": [
    "molecular_system = msm.build.build_peptide('TyrGlyGluPheMet')"
   ]
  },
  {
   "cell_type": "code",
   "execution_count": null,
   "id": "0c8adc60",
   "metadata": {
    "slideshow": {
     "slide_type": "fragment"
    }
   },
   "outputs": [],
   "source": [
    "msm.info(molecular_system)"
   ]
  },
  {
   "cell_type": "code",
   "execution_count": null,
   "id": "c4d3156e",
   "metadata": {
    "slideshow": {
     "slide_type": "subslide"
    }
   },
   "outputs": [],
   "source": [
    "molecular_system = msm.build.add_missing_terminal_cappings(molecular_system,\n",
    "                   N_terminal='ACE', C_terminal='NME')"
   ]
  },
  {
   "cell_type": "code",
   "execution_count": null,
   "id": "9b7ee54f",
   "metadata": {
    "slideshow": {
     "slide_type": "fragment"
    }
   },
   "outputs": [],
   "source": [
    "msm.info(molecular_system, element='group')"
   ]
  },
  {
   "cell_type": "code",
   "execution_count": null,
   "id": "d549f74a",
   "metadata": {
    "slideshow": {
     "slide_type": "subslide"
    }
   },
   "outputs": [],
   "source": [
    "msm.view(molecular_system, standard=True)"
   ]
  },
  {
   "cell_type": "code",
   "execution_count": null,
   "id": "de4c7dfa",
   "metadata": {
    "slideshow": {
     "slide_type": "subslide"
    }
   },
   "outputs": [],
   "source": [
    "msm.get(molecular_system, n_waters=True)"
   ]
  },
  {
   "cell_type": "code",
   "execution_count": null,
   "id": "112d8f2b",
   "metadata": {
    "slideshow": {
     "slide_type": "fragment"
    }
   },
   "outputs": [],
   "source": [
    "msm.structure.get_geometric_center(molecular_system)"
   ]
  },
  {
   "cell_type": "code",
   "execution_count": null,
   "id": "ae2a0731",
   "metadata": {
    "slideshow": {
     "slide_type": "fragment"
    }
   },
   "outputs": [],
   "source": [
    "molecular_system = msm.structure.center(molecular_system, selection='molecule_type==\"peptide\"')"
   ]
  },
  {
   "cell_type": "code",
   "execution_count": null,
   "id": "9371f924",
   "metadata": {
    "slideshow": {
     "slide_type": "fragment"
    }
   },
   "outputs": [],
   "source": [
    "msm.structure.get_geometric_center(molecular_system)"
   ]
  },
  {
   "cell_type": "code",
   "execution_count": null,
   "id": "1b349cc5",
   "metadata": {
    "slideshow": {
     "slide_type": "subslide"
    }
   },
   "outputs": [],
   "source": [
    "molecular_system = msm.build.solvate(molecular_system,\n",
    "                                     box_shape='truncated octahedral',\n",
    "                                     clearance='14.0 angstroms')"
   ]
  },
  {
   "cell_type": "code",
   "execution_count": null,
   "id": "0e95cac1",
   "metadata": {
    "slideshow": {
     "slide_type": "fragment"
    }
   },
   "outputs": [],
   "source": [
    "msm.get(molecular_system, n_waters=True, n_ions=True)"
   ]
  },
  {
   "cell_type": "code",
   "execution_count": null,
   "id": "92d76233",
   "metadata": {
    "slideshow": {
     "slide_type": "fragment"
    }
   },
   "outputs": [],
   "source": [
    "#molecular_system = msm.pbc.wrap_to_mic(molecular_system)\n",
    "msm.view(molecular_system, standard=True, with_water_as='surface')"
   ]
  }
 ],
 "metadata": {
  "celltoolbar": "Slideshow",
  "kernelspec": {
   "display_name": "Python 3 (ipykernel)",
   "language": "python",
   "name": "python3"
  },
  "language_info": {
   "codemirror_mode": {
    "name": "ipython",
    "version": 3
   },
   "file_extension": ".py",
   "mimetype": "text/x-python",
   "name": "python",
   "nbconvert_exporter": "python",
   "pygments_lexer": "ipython3",
   "version": "3.10.12"
  }
 },
 "nbformat": 4,
 "nbformat_minor": 5
}
