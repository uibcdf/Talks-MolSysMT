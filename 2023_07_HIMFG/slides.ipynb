{
 "cells": [
  {
   "cell_type": "markdown",
   "id": "6e348341-571b-4a5a-a985-a058786fc463",
   "metadata": {
    "slideshow": {
     "slide_type": "slide"
    },
    "tags": []
   },
   "source": [
    "<center>\n",
    "<br/>\n",
    "<figure>\n",
    "    <img src=\"static/logo.png\" style=\"width:50%\">\n",
    "<caption>\n",
    "<font size= \"3\">Molecular Systems Multi Toolkit to make the work with molecular models and simulations easy</font>\n",
    "</caption>\n",
    "</figure>\n",
    "<figure>\n",
    "    <img src=\"static/logo2.png\" style=\"width:40%\">\n",
    "</figure>\n",
    "</center>\n",
    "\n",
    "</br>\n",
    "</br>\n",
    "\n",
    "<center>\n",
    "<font size=\"4\"><u>Diego Prada-Gracia</u>, Liliana M. Moreno Vargas</font>\n",
    "<br>\n",
    "<font size=\"3\">Unidad de Investigación en Biología Computacional y Diseño de Fármacos</font>\n",
    "</center>"
   ]
  },
  {
   "cell_type": "markdown",
   "id": "29fe48fd",
   "metadata": {
    "slideshow": {
     "slide_type": "slide"
    }
   },
   "source": [
    "# What is MolSysMT?"
   ]
  },
  {
   "cell_type": "markdown",
   "id": "cdfd85bd",
   "metadata": {
    "slideshow": {
     "slide_type": "slide"
    }
   },
   "source": [
    "# Why MolSysMT?"
   ]
  },
  {
   "cell_type": "markdown",
   "id": "f0e444cc-6836-4608-be6d-a6ac04d419a9",
   "metadata": {
    "slideshow": {
     "slide_type": "subslide"
    },
    "tags": []
   },
   "source": [
    "## Tools with \"End User License Agreement\"\n",
    "- Schrödinger: \"Small molecule drug discovery\" and \"Biologics drug discovery\" (250,000.0 M.N./Año)\n",
    "- HTMD: Play Molecule"
   ]
  },
  {
   "cell_type": "markdown",
   "id": "c5c6f2ee",
   "metadata": {
    "slideshow": {
     "slide_type": "subslide"
    }
   },
   "source": [
    "## Open Source\n",
    "\n",
    "### Base Library - Alternatives to Maestro\n",
    "- [MDAnalysis](https://github.com/MDAnalysis/mdanalysis)\n",
    "- [MDTraj](https://github.com/mdtraj/mdtraj)"
   ]
  },
  {
   "cell_type": "markdown",
   "id": "b4264076",
   "metadata": {
    "slideshow": {
     "slide_type": "fragment"
    }
   },
   "source": [
    "<center>\n",
    "<figure>\n",
    "    <img src=\"static/mdtraj.png\" style=\"width:75%\">\n",
    "<caption>\n",
    "</center>"
   ]
  },
  {
   "cell_type": "markdown",
   "id": "4a86f1d9",
   "metadata": {
    "slideshow": {
     "slide_type": "subslide"
    }
   },
   "source": [
    "### MD engine\n",
    "- [OpenMM]()\n",
    "\n",
    "### 3D Viewer\n",
    "- [NGLView]()\n"
   ]
  },
  {
   "cell_type": "markdown",
   "id": "be2330ee",
   "metadata": {
    "slideshow": {
     "slide_type": "subslide"
    }
   },
   "source": [
    "### Forcefield and parameterization tools\n",
    "- [OpenForcefield]()\n",
    "- [Gaff]()\n",
    "- [Parameterize]()\n",
    "\n",
    "### Binding Free Energy\n",
    "- [Yank]()\n",
    "- [Perses]()"
   ]
  },
  {
   "cell_type": "markdown",
   "id": "b6a95c43",
   "metadata": {
    "slideshow": {
     "slide_type": "subslide"
    }
   },
   "source": [
    "### Pharmacophoric 3D models and VS screening\n",
    "- Pharmer... PyPharmer?\n",
    "\n",
    "### Pockets predictions\n",
    "- Fpocket... PyFpocket?"
   ]
  },
  {
   "cell_type": "markdown",
   "id": "9ad20dd1",
   "metadata": {
    "slideshow": {
     "slide_type": "slide"
    }
   },
   "source": [
    "# Conclusion after careful analysis:"
   ]
  },
  {
   "cell_type": "markdown",
   "id": "f6148089",
   "metadata": {
    "slideshow": {
     "slide_type": "fragment"
    }
   },
   "source": [
    "<center>\n",
    "<br/>\n",
    "<figure>\n",
    "    <img src=\"static/logo.png\" style=\"width:50%\">\n",
    "<caption>\n",
    "<font size= \"3\">Molecular Systems Multi Toolkit to make the work with molecular models and simulations easy</font>\n",
    "</caption>\n",
    "</figure>\n",
    "<figure>\n",
    "    <img src=\"static/logo2.png\" style=\"width:40%\">\n",
    "</figure>\n",
    "</center>\n"
   ]
  },
  {
   "cell_type": "markdown",
   "id": "ad7973c1",
   "metadata": {},
   "source": [
    "# MolSysMT\n",
    "## Install it\n",
    "```bash\n",
    "conda install -c uibcdf molsysmt\n",
    "```\n",
    "## Use it"
   ]
  },
  {
   "cell_type": "code",
   "execution_count": null,
   "id": "68f8bb8f",
   "metadata": {
    "slideshow": {
     "slide_type": "slide"
    }
   },
   "outputs": [],
   "source": [
    "import molsysmt as msm"
   ]
  },
  {
   "cell_type": "markdown",
   "id": "44145f3c",
   "metadata": {
    "slideshow": {
     "slide_type": "slide"
    }
   },
   "source": [
    "# MolSysMT very brief overview\n",
    "- Molecular Systems as forms with elements (55 forms and 6 elements).\n",
    "- Molecular Systems attributes (83 attributes).\n",
    "- Native forms and syntax.\n",
    "- Agnostic functions.\n",
    "- Flexible customization: syntax (3) and units (3).\n",
    "- Tools modules (140 functions): \"Basic\", \"Structure\", \"Topology\", \"Build\", \"PBC\", \"Molecular mechanics\", \"Molecular dynamics\", \"PhysChem\", \"Hbonds\".\n",
    "- \"On the fly\" errors detection (237 input arguments auditors) and memory management."
   ]
  },
  {
   "cell_type": "markdown",
   "id": "33486b35",
   "metadata": {
    "slideshow": {
     "slide_type": "slide"
    }
   },
   "source": [
    "# Showcase\n",
    "\n",
    "- A peptide from scratch.\n",
    "- A protein complex working from the Protein Data Bank.\n",
    "- The analysis of an MD trajectory."
   ]
  },
  {
   "cell_type": "markdown",
   "id": "6fda85a2",
   "metadata": {
    "slideshow": {
     "slide_type": "slide"
    }
   },
   "source": [
    "## Let's prepare a Peptide for its study"
   ]
  },
  {
   "cell_type": "code",
   "execution_count": null,
   "id": "ed93f4a3",
   "metadata": {
    "slideshow": {
     "slide_type": "subslide"
    }
   },
   "outputs": [],
   "source": [
    "molecular_system = msm.build.build_peptide('AceTyrGlyGlyPheMetNme')"
   ]
  },
  {
   "cell_type": "code",
   "execution_count": null,
   "id": "d549f74a",
   "metadata": {
    "slideshow": {
     "slide_type": "fragment"
    }
   },
   "outputs": [],
   "source": [
    "msm.view(molecular_system, standard=True)"
   ]
  },
  {
   "cell_type": "code",
   "execution_count": null,
   "id": "1b349cc5",
   "metadata": {
    "slideshow": {
     "slide_type": "subslide"
    }
   },
   "outputs": [],
   "source": [
    "molecular_system = msm.structure.center(molecular_system, selection='molecule_type==\"peptide\"')\n",
    "\n",
    "molecular_system = msm.build.solvate(molecular_system,\n",
    "                                     box_shape='truncated octahedral',\n",
    "                                     clearance='14.0 angstroms')"
   ]
  },
  {
   "cell_type": "code",
   "execution_count": null,
   "id": "92d76233",
   "metadata": {
    "slideshow": {
     "slide_type": "fragment"
    }
   },
   "outputs": [],
   "source": [
    "molecular_system = msm.pbc.wrap_to_mic(molecular_system)\n",
    "msm.view(molecular_system, standard=True, with_water_as='surface')"
   ]
  },
  {
   "cell_type": "markdown",
   "id": "b612022c",
   "metadata": {
    "slideshow": {
     "slide_type": "slide"
    }
   },
   "source": [
    "# Let's prepare a protein complex for its study"
   ]
  },
  {
   "cell_type": "code",
   "execution_count": null,
   "id": "ac4f1472",
   "metadata": {
    "slideshow": {
     "slide_type": "subslide"
    }
   },
   "outputs": [],
   "source": [
    "molecular_system = msm.convert('1BRS')"
   ]
  },
  {
   "cell_type": "code",
   "execution_count": null,
   "id": "82646034",
   "metadata": {
    "slideshow": {
     "slide_type": "fragment"
    }
   },
   "outputs": [],
   "source": [
    "msm.view(molecular_system)"
   ]
  },
  {
   "cell_type": "code",
   "execution_count": null,
   "id": "9d26f253",
   "metadata": {
    "slideshow": {
     "slide_type": "subslide"
    }
   },
   "outputs": [],
   "source": [
    "msm.info(molecular_system, element='molecule', selection='molecule_type==\"protein\"')"
   ]
  },
  {
   "cell_type": "code",
   "execution_count": null,
   "id": "1be984e8",
   "metadata": {
    "slideshow": {
     "slide_type": "subslide"
    }
   },
   "outputs": [],
   "source": [
    "barnase = msm.extract(molecular_system, selection=\"molecule_index==1\")\n",
    "barstar = msm.extract(molecular_system, selection=\"molecule_index==5\")\n",
    "\n",
    "molecule_ref = msm.select(molecular_system, element='molecule',\n",
    "                          selection='molecule_name==\"Barstar\" within 4 angstroms of molecule_index==1')\n",
    "barstar_ref = msm.extract(molecular_system, selection='molecule_index==@molecule_ref')"
   ]
  },
  {
   "cell_type": "code",
   "execution_count": null,
   "id": "b801e990",
   "metadata": {
    "slideshow": {
     "slide_type": "subslide"
    }
   },
   "outputs": [],
   "source": [
    "msm.view([barnase, barstar, barstar_ref])"
   ]
  },
  {
   "cell_type": "code",
   "execution_count": null,
   "id": "6aeb53b7",
   "metadata": {
    "slideshow": {
     "slide_type": "subslide"
    }
   },
   "outputs": [],
   "source": [
    "barstar = msm.structure.align(barstar, selection='atom_name==\"CA\"',\n",
    "                              reference_molecular_system=barstar_ref)"
   ]
  },
  {
   "cell_type": "code",
   "execution_count": null,
   "id": "d8123568",
   "metadata": {
    "slideshow": {
     "slide_type": "subslide"
    }
   },
   "outputs": [],
   "source": [
    "msm.view([barnase, barstar, barstar_ref])"
   ]
  },
  {
   "cell_type": "markdown",
   "id": "e7bf1ff1",
   "metadata": {
    "slideshow": {
     "slide_type": "slide"
    }
   },
   "source": [
    "# Let's analyse a Molecular Dynamics trajectory"
   ]
  },
  {
   "cell_type": "code",
   "execution_count": null,
   "id": "308b0c61",
   "metadata": {
    "slideshow": {
     "slide_type": "subslide"
    }
   },
   "outputs": [],
   "source": [
    "gro_file = msm.systems.demo['nglview']['md_1u19.gro']\n",
    "xtc_file = msm.systems.demo['nglview']['md_1u19.xtc']\n",
    "\n",
    "view = msm.view([gro_file, xtc_file])\n",
    "view"
   ]
  },
  {
   "cell_type": "code",
   "execution_count": null,
   "id": "51392e66",
   "metadata": {
    "slideshow": {
     "slide_type": "subslide"
    }
   },
   "outputs": [],
   "source": [
    "msm.structure.show_contacts(view, selection='atom_name==\"CA\"',\n",
    "                           threshold='12 angstroms')"
   ]
  },
  {
   "cell_type": "markdown",
   "id": "841f0d8b",
   "metadata": {
    "slideshow": {
     "slide_type": "slide"
    }
   },
   "source": [
    "## Next UIBCDF Drug Design and Discovery tools\n",
    "- **Sabueso**: On line public DBs tracker.\n",
    "- **OpenPharmacophore**: 3D pharmacophoric models from MD and virtual screening.\n",
    "- **BiFrEE**: Binding Free Enery Estimator in implicit solvent and interfaces characterization.\n",
    "- **OpenPocket**: Pockets, cavities and channels prediction and characterization."
   ]
  },
  {
   "cell_type": "markdown",
   "id": "b6e0dc25",
   "metadata": {
    "slideshow": {
     "slide_type": "subslide"
    }
   },
   "source": [
    "## Next UIBCDF Drug Design and Discovery tools\n",
    "- **OpenENM**: Elastic network models of proteins.\n",
    "- **OpenDocker**: Potential and free energy landscape of molecular complexes.\n",
    "- **OpenMembrane**: Membrane permeation predictor with MD.\n",
    "- **OpenPeptides**: PES and FEL characterization of peptides and peptides association."
   ]
  },
  {
   "cell_type": "markdown",
   "id": "a9678196",
   "metadata": {
    "slideshow": {
     "slide_type": "slide"
    }
   },
   "source": [
    "# OpenENM\n",
    "\n",
    "Elastic network models of proteins.\n",
    "\n",
    "## Install it\n",
    "\n",
    "```bash\n",
    "conda install -c uibcdf openenm\n",
    "```\n",
    "\n",
    "## Use it"
   ]
  },
  {
   "cell_type": "code",
   "execution_count": null,
   "id": "958ee8ce",
   "metadata": {
    "slideshow": {
     "slide_type": "fragment"
    }
   },
   "outputs": [],
   "source": [
    "import openenm as oenm"
   ]
  },
  {
   "cell_type": "code",
   "execution_count": null,
   "id": "ab37a27b",
   "metadata": {
    "slideshow": {
     "slide_type": "subslide"
    }
   },
   "outputs": [],
   "source": [
    "molecular_system = msm.convert('1TCD', selection='molecule_type==\"protein\"')\n",
    "msm.info(molecular_system)"
   ]
  },
  {
   "cell_type": "code",
   "execution_count": null,
   "id": "fe3b6495",
   "metadata": {
    "slideshow": {
     "slide_type": "subslide"
    }
   },
   "outputs": [],
   "source": [
    "anm = oenm.AnisotropicNetworkModel(molecular_system, selection='atom_name==\"CA\"', cutoff='10 angstroms')"
   ]
  },
  {
   "cell_type": "code",
   "execution_count": null,
   "id": "57a6c3ec",
   "metadata": {
    "slideshow": {
     "slide_type": "subslide"
    }
   },
   "outputs": [],
   "source": [
    "anm.view_mode(mode=1, arrows=True)"
   ]
  },
  {
   "cell_type": "code",
   "execution_count": null,
   "id": "b0d70c2d",
   "metadata": {
    "slideshow": {
     "slide_type": "subslide"
    }
   },
   "outputs": [],
   "source": [
    "molecular_system = msm.convert('4PFK')"
   ]
  },
  {
   "cell_type": "code",
   "execution_count": null,
   "id": "886aeca6",
   "metadata": {
    "slideshow": {
     "slide_type": "fragment"
    }
   },
   "outputs": [],
   "source": [
    "msm.view(molecular_system)"
   ]
  },
  {
   "cell_type": "code",
   "execution_count": null,
   "id": "c9b78a5d",
   "metadata": {
    "slideshow": {
     "slide_type": "subslide"
    }
   },
   "outputs": [],
   "source": [
    "molecular_system= msm.build.make_bioassembly(molecular_system)"
   ]
  },
  {
   "cell_type": "code",
   "execution_count": null,
   "id": "7c56f09d",
   "metadata": {
    "slideshow": {
     "slide_type": "fragment"
    }
   },
   "outputs": [],
   "source": [
    "msm.view(molecular_system)"
   ]
  },
  {
   "cell_type": "code",
   "execution_count": null,
   "id": "de8fefc9",
   "metadata": {
    "slideshow": {
     "slide_type": "subslide"
    }
   },
   "outputs": [],
   "source": [
    "anm = oenm.AnisotropicNetworkModel(molecular_system, selection='atom_name==\"CA\"', cutoff='10 angstroms')"
   ]
  },
  {
   "cell_type": "code",
   "execution_count": null,
   "id": "60ecab80",
   "metadata": {
    "slideshow": {
     "slide_type": "fragment"
    }
   },
   "outputs": [],
   "source": [
    "anm.view_mode(mode=1)"
   ]
  },
  {
   "cell_type": "markdown",
   "id": "2baf199f",
   "metadata": {
    "slideshow": {
     "slide_type": "slide"
    }
   },
   "source": [
    "# OpenPocket\n",
    "\n",
    "Pockets, cavities and channels prediction and characterization.\n",
    "\n",
    "## Install it\n",
    "\n",
    "```bash\n",
    "conda install -c uibcdf openpocket\n",
    "```\n",
    "\n",
    "## Use it"
   ]
  },
  {
   "cell_type": "code",
   "execution_count": null,
   "id": "79b63d17",
   "metadata": {},
   "outputs": [],
   "source": [
    "import openpocket as opoc"
   ]
  },
  {
   "cell_type": "code",
   "execution_count": null,
   "id": "3308147f",
   "metadata": {},
   "outputs": [],
   "source": [
    "import molsysmt as msm"
   ]
  },
  {
   "cell_type": "code",
   "execution_count": null,
   "id": "180ae1da",
   "metadata": {},
   "outputs": [],
   "source": [
    "molecular_system = msm.convert('1HKC')\n",
    "molecular_system = msm.build.make_bioassembly(molecular_system)\n",
    "molecular_system = msm.extract(molecular_system, 'molecule_type==\"protein\"')"
   ]
  },
  {
   "cell_type": "code",
   "execution_count": null,
   "id": "65d8bb83",
   "metadata": {},
   "outputs": [],
   "source": [
    "msm.view(molecular_system)"
   ]
  },
  {
   "cell_type": "code",
   "execution_count": null,
   "id": "63c9dd8b",
   "metadata": {},
   "outputs": [],
   "source": [
    "pockets = opoc.get_pockets(molecular_system)"
   ]
  },
  {
   "cell_type": "code",
   "execution_count": null,
   "id": "f8f6cca5",
   "metadata": {},
   "outputs": [],
   "source": [
    "opoc.show_pockets(molecular_system, pockets, index=9)"
   ]
  },
  {
   "cell_type": "markdown",
   "id": "65912f3f",
   "metadata": {},
   "source": [
    "# OpenPharmacophore\n",
    "\n",
    "3D pharmacophoric models from MD and virtual screening.\n",
    "\n",
    "## Install it\n",
    "\n",
    "```bash\n",
    "conda install -c uibcdf openpharmacophore\n",
    "```\n",
    "\n",
    "## Use it"
   ]
  },
  {
   "cell_type": "code",
   "execution_count": 20,
   "id": "d8691ecb",
   "metadata": {},
   "outputs": [],
   "source": [
    "import openpharmacophore as opha"
   ]
  },
  {
   "cell_type": "code",
   "execution_count": 21,
   "id": "2c5146f7",
   "metadata": {},
   "outputs": [],
   "source": [
    "molecular_system = msm.convert('1HKC',  selection='molecule_type not in [\"water\", \"ion\"]')"
   ]
  },
  {
   "cell_type": "code",
   "execution_count": 22,
   "id": "def01a21",
   "metadata": {},
   "outputs": [
    {
     "data": {
      "application/vnd.jupyter.widget-view+json": {
       "model_id": "d5b2acdb4dbc417cb24693e8117c65fd",
       "version_major": 2,
       "version_minor": 0
      },
      "text/plain": [
       "NGLWidget()"
      ]
     },
     "metadata": {},
     "output_type": "display_data"
    }
   ],
   "source": [
    "msm.view(molecular_system)"
   ]
  },
  {
   "cell_type": "code",
   "execution_count": 23,
   "id": "3b4d87ee",
   "metadata": {},
   "outputs": [],
   "source": [
    "protein, ligand, pharmacophore = opha.get_pharmacophore(molecular_system)"
   ]
  },
  {
   "cell_type": "code",
   "execution_count": 24,
   "id": "abaa52de",
   "metadata": {},
   "outputs": [
    {
     "name": "stdout",
     "output_type": "stream",
     "text": [
      "PharmacophoricPoint(feat_type=hb donor; center=(-11.62, 123.57, 1.12); radius=1.0; direction=(-0.96, 0.26, -0.12))\n",
      "PharmacophoricPoint(feat_type=hb donor; center=(-12.58, 125.6, 2.74); radius=1.0; direction=(0.11, 0.61, 0.78))\n",
      "PharmacophoricPoint(feat_type=hb donor; center=(-10.65, 123.27, 6.46); radius=1.0; direction=(-0.02, 0.58, 0.81))\n",
      "PharmacophoricPoint(feat_type=hb donor; center=(-10.65, 123.27, 6.46); radius=1.0; direction=(-0.23, -0.67, 0.7))\n",
      "PharmacophoricPoint(feat_type=hb donor; center=(-11.33, 120.07, 4.53); radius=1.0; direction=(0.07, 0.07, 1.0))\n",
      "PharmacophoricPoint(feat_type=hb acceptor; center=(-13.0, 124.81, 5.51); radius=1.0; direction=(-0.03, 0.04, 1.0))\n",
      "PharmacophoricPoint(feat_type=hb acceptor; center=(-10.65, 123.27, 6.46); radius=1.0; direction=(0.34, 0.93, 0.13))\n"
     ]
    }
   ],
   "source": [
    "for ii in pharmacophore[0]:\n",
    "    print(ii)"
   ]
  },
  {
   "cell_type": "code",
   "execution_count": 25,
   "id": "0b0faf7d",
   "metadata": {},
   "outputs": [
    {
     "data": {
      "application/vnd.jupyter.widget-view+json": {
       "model_id": "e4677b69dbad4c028c64cd5c0cfcddec",
       "version_major": 2,
       "version_minor": 0
      },
      "text/plain": [
       "NGLWidget()"
      ]
     },
     "metadata": {},
     "output_type": "display_data"
    }
   ],
   "source": [
    "viewer = opha.Viewer()\n",
    "viewer.add_components([protein, ligand, pharmacophore[0]])\n",
    "viewer.show()"
   ]
  },
  {
   "cell_type": "markdown",
   "id": "08772eb9",
   "metadata": {
    "slideshow": {
     "slide_type": "slide"
    }
   },
   "source": [
    "# MolSysMT technical details"
   ]
  },
  {
   "cell_type": "markdown",
   "id": "fa00f51f",
   "metadata": {
    "slideshow": {
     "slide_type": "slide"
    }
   },
   "source": [
    "## The code\n",
    "\n",
    "- Python 3.8, 3.9 and 3.10.\n",
    "- Fortran routines recently migrated to Numba.\n",
    "- MIT open source license.\n",
    "- [GitHub open source repository](https://github.com/uibcdf/MolSysMT)."
   ]
  },
  {
   "cell_type": "markdown",
   "id": "45341dec",
   "metadata": {
    "slideshow": {
     "slide_type": "subslide"
    }
   },
   "source": [
    "<h3>MolSysMT</h3>\n",
    "<center>\n",
    "<figure>\n",
    "    <img src=\"static/history_molsysmt.png\" style=\"width:90%\">\n",
    "</figure>\n",
    "<caption>\n",
    "    <font size=\"5\" color=\"green\">8.663.879 ++</font>  &nbsp;&nbsp;  <font size=\"5\" color=\"red\">8.161.398 --</font>\n",
    "</caption>\n",
    "</center>"
   ]
  },
  {
   "cell_type": "markdown",
   "id": "bde6b246",
   "metadata": {
    "slideshow": {
     "slide_type": "subslide"
    }
   },
   "source": [
    "### MDTraj\n",
    "<center>\n",
    "<figure>\n",
    "    <img src=\"static/mdtraj.png\" style=\"width:90%\">\n",
    "<caption>\n",
    "</center>"
   ]
  },
  {
   "cell_type": "markdown",
   "id": "cd8a3ca6",
   "metadata": {
    "slideshow": {
     "slide_type": "subslide"
    }
   },
   "source": [
    "### MDAnalysis\n",
    "\n",
    "<center>\n",
    "<figure>\n",
    "    <img src=\"static/mdanalysis.png\" style=\"width:90%\">\n",
    "</figure>\n",
    "</center>"
   ]
  },
  {
   "cell_type": "markdown",
   "id": "7ccf726c",
   "metadata": {
    "slideshow": {
     "slide_type": "slide"
    }
   },
   "source": [
    "## Continuous Integration\n",
    "\n",
    "- 299 Tests with PyTests.\n",
    "- Automatic CI GitHub Action in Pull Requests and Commits pushed."
   ]
  },
  {
   "cell_type": "markdown",
   "id": "c9527b55",
   "metadata": {
    "slideshow": {
     "slide_type": "slide"
    }
   },
   "source": [
    "## Public Documentation\n",
    "\n",
    "- [Online HTML documentation with Sphinx](https://www.uibcdf.org/MolSysMT/).\n",
    "- [Automatic sphinx to gh-pages conversion with homemade GitHub Action](https://github.com/uibcdf/action-sphinx-docs-to-gh-pages)."
   ]
  },
  {
   "cell_type": "markdown",
   "id": "a18e8710",
   "metadata": {
    "slideshow": {
     "slide_type": "subslide"
    }
   },
   "source": [
    "### Users of this GitHub Action (135 projects)\n",
    "- [Stitch](https://github.com/JamieHeather/stitchr): Stitch together TCR coding nucleotide sequences from V/J/CDR3 information. Massachusets General Hospital.\n",
    "- [CDSFactory](https://github.com/gdsfactory/gdsfactory): An open source platform for end to-end chip design and validation.\n",
    "- [stac.py-wrapper](https://github.com/cedadev): Centre for Environmental Data Analysis Developers UK\n",
    "- [BulletArm](https://github.com/ColinKohler/BulletArm): Benchmark and learning-environment for robotic manipulation. Northeastern University, Boston.\n",
    "- [Spins-b](https://github.com/stanfordnqp/spins-b): Gradient-based (adjoint) photonic optimization.Nanoscale and Quantum Photonics Lab at Stanford University."
   ]
  },
  {
   "cell_type": "markdown",
   "id": "1e40c918",
   "metadata": {
    "slideshow": {
     "slide_type": "slide"
    }
   },
   "source": [
    "## Building and distribution\n",
    "\n",
    "- [UIBCDF Conda channel](https://anaconda.org/uibcdf/molsysmt)\n",
    "- [Automatic conda package building and distribution with homemade GitHub Action](https://github.com/uibcdf/action-build-and-upload-conda-packages)"
   ]
  },
  {
   "cell_type": "markdown",
   "id": "272fd140",
   "metadata": {
    "slideshow": {
     "slide_type": "subslide"
    }
   },
   "source": [
    "### Users of this GitHub Action (102 projects)\n",
    "- [Payu](https://github.com/payu-org/payu): Payu is a climate model workflow management tool for supercomputing environments. NCI (National Computational Infrastructure) in Australia.\n",
    "- [Topaz](https://github.com/tbepler/topaz): Pipeline for particle picking in cryo-electron microscopy images using convolutional neural networks trained from positive and unlabeled examples. Simons Machine Learning Center at NYSBC in NYC.\n",
    "- [Stoner PythonCode](https://github.com/stonerlab/Stoner-PythonCode): Utility classes for writing data analysis code. Condensed Matter Physics group at the University of Leeds.\n",
    "- [xscen](https://github.com/Ouranosinc/xscen): A climate change scenario-building analysis framework. Consortium on regional climatology Quebec.\n",
    "- [ACCESS-NRI](https://github.com/ACCESS-NRI): Australian Earth System Simulator - National Research Infrastructure"
   ]
  },
  {
   "cell_type": "markdown",
   "id": "0cc84913",
   "metadata": {},
   "source": [
    "# Nice tool but what's the project?\n",
    "\n",
    "- CPPs design as regulators of the glycolitic activity of cancer cells."
   ]
  },
  {
   "cell_type": "markdown",
   "id": "53fd8805",
   "metadata": {
    "slideshow": {
     "slide_type": "slide"
    }
   },
   "source": [
    "## Authors\n",
    "- Liliana M. Moreno Vargas\n",
    "- Diego Prada Gracia\n",
    "\n",
    "## Contributors\n",
    "- Daniel Ibarrola Sánchez\n"
   ]
  },
  {
   "cell_type": "markdown",
   "id": "2d6df67e",
   "metadata": {
    "slideshow": {
     "slide_type": "subslide"
    }
   },
   "source": [
    "## Thanks for your kind attention!!!\n",
    "\n",
    "<br>\n",
    "<br>\n",
    "\n",
    "<center>\n",
    "<figure>\n",
    "    <img src=\"static/logos_UIBCDF_HIMFG.png\" style=\"width:40%\">\n",
    "</figure>\n",
    "</center>\n",
    "\n",
    "<br>\n",
    "\n",
    "<center>\n",
    "<font size=\"6\"><u>Diego Prada-Gracia</u>, Liliana M. Moreno Vargas</font>\n",
    "<br>\n",
    "<font size=\"5\">Unidad de Investigación en Biología Computacional y Diseño de Fármacos</font>\n",
    "</center>"
   ]
  }
 ],
 "metadata": {
  "celltoolbar": "Slideshow",
  "kernelspec": {
   "display_name": "Python 3 (ipykernel)",
   "language": "python",
   "name": "python3"
  },
  "language_info": {
   "codemirror_mode": {
    "name": "ipython",
    "version": 3
   },
   "file_extension": ".py",
   "mimetype": "text/x-python",
   "name": "python",
   "nbconvert_exporter": "python",
   "pygments_lexer": "ipython3",
   "version": "3.10.12"
  }
 },
 "nbformat": 4,
 "nbformat_minor": 5
}
